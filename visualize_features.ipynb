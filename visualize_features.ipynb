{
 "cells": [
  {
   "cell_type": "code",
   "execution_count": null,
   "metadata": {},
   "outputs": [],
   "source": [
    "import numpy as np\n",
    "import matplotlib.pyplot as plt"
   ]
  },
  {
   "cell_type": "code",
   "execution_count": 2,
   "metadata": {},
   "outputs": [],
   "source": [
    "feat_list = []\n",
    "lab_list = []\n",
    "\n",
    "for i in range(4):\n",
    "    feat_list.append(np.load(f\"features/baseline/features_{i}.npy\"))\n",
    "    lab_list.append(np.load(f\"features/baseline/labels_{i}.npy\"))\n",
    "    \n",
    "# feat0 = np.load(\"features/baseline/features_0.npy\")\n",
    "# feat1 = np.load(\"features/baseline/features_1.npy\")\n",
    "# feat2 = np.load(\"features/baseline/features_2.npy\")\n",
    "# feat3 = np.load(\"features/baseline/features_3.npy\")\n",
    "\n",
    "# lab0 = np.load(\"features/baseline/labels_0.npy\")\n",
    "# lab1 = np.load(\"features/baseline/labels_1.npy\")\n",
    "# lab2 = np.load(\"features/baseline/labels_2.npy\")\n",
    "# lab3 = np.load(\"features/baseline/labels_3.npy\")\n",
    "\n",
    "feats = np.concatenate(feat_list, 0)\n",
    "labs = np.concatenate(lab_list, 0)"
   ]
  },
  {
   "cell_type": "code",
   "execution_count": null,
   "metadata": {},
   "outputs": [],
   "source": [
    "feats.shape\n",
    "# labs.shape"
   ]
  },
  {
   "cell_type": "code",
   "execution_count": null,
   "metadata": {},
   "outputs": [],
   "source": [
    "np.unique(feats)"
   ]
  },
  {
   "cell_type": "code",
   "execution_count": null,
   "metadata": {},
   "outputs": [],
   "source": []
  }
 ],
 "metadata": {
  "kernelspec": {
   "display_name": "Python 3",
   "language": "python",
   "name": "python3"
  },
  "language_info": {
   "codemirror_mode": {
    "name": "ipython",
    "version": 3
   },
   "file_extension": ".py",
   "mimetype": "text/x-python",
   "name": "python",
   "nbconvert_exporter": "python",
   "pygments_lexer": "ipython3",
   "version": "3.7.9"
  }
 },
 "nbformat": 4,
 "nbformat_minor": 4
}
