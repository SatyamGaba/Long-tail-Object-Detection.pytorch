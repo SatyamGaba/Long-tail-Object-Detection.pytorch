{
 "cells": [
  {
   "cell_type": "code",
   "execution_count": 23,
   "metadata": {},
   "outputs": [],
   "source": [
    "import json"
   ]
  },
  {
   "cell_type": "code",
   "execution_count": 3,
   "metadata": {},
   "outputs": [],
   "source": [
    "train_annotation = '/datasets/COCO-2017/annotations/instances_train2017.json'\n",
    "with open(train_annotation) as f:\n",
    "    data = json.load(f)"
   ]
  },
  {
   "cell_type": "code",
   "execution_count": 4,
   "metadata": {},
   "outputs": [
    {
     "name": "stdout",
     "output_type": "stream",
     "text": [
      "dict_keys(['info', 'licenses', 'images', 'annotations', 'categories'])\n"
     ]
    }
   ],
   "source": [
    "print(data.keys())"
   ]
  },
  {
   "cell_type": "code",
   "execution_count": 14,
   "metadata": {},
   "outputs": [],
   "source": [
    "output_json = 'data/coco/instances_train2017_one_img.json'\n",
    "\n",
    "output_data = dict()\n",
    "output_data['info'] = data['info']\n",
    "output_data['licenses'] = data['licenses']\n",
    "output_data['categories'] = data['categories']"
   ]
  },
  {
   "cell_type": "code",
   "execution_count": 15,
   "metadata": {},
   "outputs": [
    {
     "name": "stdout",
     "output_type": "stream",
     "text": [
      "{'supercategory': 'person', 'id': 1, 'name': 'person'}\n",
      "dict_keys(['supercategory', 'id', 'name'])\n"
     ]
    }
   ],
   "source": [
    "# print(data['info'])\n",
    "# print(data['licenses'])\n",
    "print(data['categories'][0])\n",
    "print(data['categories'][0].keys())"
   ]
  },
  {
   "cell_type": "code",
   "execution_count": 16,
   "metadata": {},
   "outputs": [],
   "source": [
    "image_ids = {5802}"
   ]
  },
  {
   "cell_type": "code",
   "execution_count": 17,
   "metadata": {},
   "outputs": [
    {
     "name": "stdout",
     "output_type": "stream",
     "text": [
      "<class 'list'>\n"
     ]
    }
   ],
   "source": [
    "# print([data['images'][i] for i in range(len(data['images'])) if data['images'][i]['id'] == image_id ])\n",
    "print(type(data['images']))"
   ]
  },
  {
   "cell_type": "code",
   "execution_count": 18,
   "metadata": {},
   "outputs": [],
   "source": [
    "output_data['images'] = []\n",
    "for i in range(len(data['images'])):\n",
    "    if data['images'][i]['id'] in image_ids:\n",
    "        output_data['images'].append(data['images'][i])"
   ]
  },
  {
   "cell_type": "code",
   "execution_count": 19,
   "metadata": {},
   "outputs": [],
   "source": [
    "# print([data['annotations'][i]['bbox'] for i in range(len(data['annotations'])) if data['annotations'][i]['image_id'] == image_id ])"
   ]
  },
  {
   "cell_type": "code",
   "execution_count": 20,
   "metadata": {},
   "outputs": [],
   "source": [
    "output_data['annotations'] = []\n",
    "for i in range(len(data['annotations'])):\n",
    "    if data['annotations'][i]['image_id'] in image_ids:\n",
    "        output_data['annotations'].append(data['annotations'][i])"
   ]
  },
  {
   "cell_type": "code",
   "execution_count": 21,
   "metadata": {},
   "outputs": [
    {
     "name": "stdout",
     "output_type": "stream",
     "text": [
      "[{'license': 2, 'file_name': '000000005802.jpg', 'coco_url': 'http://images.cocodataset.org/train2017/000000005802.jpg', 'height': 479, 'width': 640, 'date_captured': '2013-11-14 17:28:25', 'flickr_url': 'http://farm4.staticflickr.com/3810/9614287841_1b724dbbc5_z.jpg', 'id': 5802}]\n"
     ]
    }
   ],
   "source": [
    "print(output_data['images'])\n",
    "# print(output_data['annotations'])"
   ]
  },
  {
   "cell_type": "code",
   "execution_count": 22,
   "metadata": {},
   "outputs": [],
   "source": [
    "with open(output_json, 'w') as json_file:\n",
    "    json.dump(output_data, json_file)"
   ]
  },
  {
   "cell_type": "code",
   "execution_count": null,
   "metadata": {},
   "outputs": [],
   "source": []
  }
 ],
 "metadata": {
  "kernelspec": {
   "display_name": "Python 3",
   "language": "python",
   "name": "python3"
  },
  "language_info": {
   "codemirror_mode": {
    "name": "ipython",
    "version": 3
   },
   "file_extension": ".py",
   "mimetype": "text/x-python",
   "name": "python",
   "nbconvert_exporter": "python",
   "pygments_lexer": "ipython3",
   "version": "3.7.6"
  }
 },
 "nbformat": 4,
 "nbformat_minor": 4
}
