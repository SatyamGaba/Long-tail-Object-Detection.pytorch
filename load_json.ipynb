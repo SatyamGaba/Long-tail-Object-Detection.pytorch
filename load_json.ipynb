{
 "cells": [
  {
   "cell_type": "code",
   "execution_count": null,
   "metadata": {},
   "outputs": [],
   "source": [
    "import json\n",
    "!pwd"
   ]
  },
  {
   "cell_type": "code",
   "execution_count": 7,
   "metadata": {},
   "outputs": [
    {
     "ename": "FileNotFoundError",
     "evalue": "[Errno 2] No such file or directory: '/cephfs-team2/tsircar/lt_od/data/lvis_v1/annotations/instances_val2017.json'",
     "output_type": "error",
     "traceback": [
      "\u001b[0;31m---------------------------------------------------------------------------\u001b[0m",
      "\u001b[0;31mFileNotFoundError\u001b[0m                         Traceback (most recent call last)",
      "\u001b[0;32m<ipython-input-7-c7a60b0b0177>\u001b[0m in \u001b[0;36m<module>\u001b[0;34m\u001b[0m\n\u001b[1;32m      1\u001b[0m \u001b[0mtrain_annotation\u001b[0m \u001b[0;34m=\u001b[0m \u001b[0;34m'/cephfs-team2/tsircar/lt_od/data/lvis_v1/annotations/instances_val2017.json'\u001b[0m\u001b[0;34m\u001b[0m\u001b[0;34m\u001b[0m\u001b[0m\n\u001b[0;32m----> 2\u001b[0;31m \u001b[0;32mwith\u001b[0m \u001b[0mopen\u001b[0m\u001b[0;34m(\u001b[0m\u001b[0mtrain_annotation\u001b[0m\u001b[0;34m)\u001b[0m \u001b[0;32mas\u001b[0m \u001b[0mf\u001b[0m\u001b[0;34m:\u001b[0m\u001b[0;34m\u001b[0m\u001b[0;34m\u001b[0m\u001b[0m\n\u001b[0m\u001b[1;32m      3\u001b[0m     \u001b[0mdata\u001b[0m \u001b[0;34m=\u001b[0m \u001b[0mjson\u001b[0m\u001b[0;34m.\u001b[0m\u001b[0mload\u001b[0m\u001b[0;34m(\u001b[0m\u001b[0mf\u001b[0m\u001b[0;34m)\u001b[0m\u001b[0;34m\u001b[0m\u001b[0;34m\u001b[0m\u001b[0m\n",
      "\u001b[0;31mFileNotFoundError\u001b[0m: [Errno 2] No such file or directory: '/cephfs-team2/tsircar/lt_od/data/lvis_v1/annotations/instances_val2017.json'"
     ]
    }
   ],
   "source": [
    "train_annotation = '/cephfs-team2/tsircar/lt_od/data/lvis_v1/annotations/instances_val2017.json'\n",
    "with open(train_annotation) as f:\n",
    "    data = json.load(f)"
   ]
  },
  {
   "cell_type": "code",
   "execution_count": 4,
   "metadata": {},
   "outputs": [
    {
     "ename": "NameError",
     "evalue": "name 'data' is not defined",
     "output_type": "error",
     "traceback": [
      "\u001b[0;31m---------------------------------------------------------------------------\u001b[0m",
      "\u001b[0;31mNameError\u001b[0m                                 Traceback (most recent call last)",
      "\u001b[0;32m<ipython-input-4-09fd43cb527a>\u001b[0m in \u001b[0;36m<module>\u001b[0;34m\u001b[0m\n\u001b[0;32m----> 1\u001b[0;31m \u001b[0mprint\u001b[0m\u001b[0;34m(\u001b[0m\u001b[0mdata\u001b[0m\u001b[0;34m.\u001b[0m\u001b[0mkeys\u001b[0m\u001b[0;34m(\u001b[0m\u001b[0;34m)\u001b[0m\u001b[0;34m)\u001b[0m\u001b[0;34m\u001b[0m\u001b[0;34m\u001b[0m\u001b[0m\n\u001b[0m",
      "\u001b[0;31mNameError\u001b[0m: name 'data' is not defined"
     ]
    }
   ],
   "source": [
    "print(data.keys())"
   ]
  },
  {
   "cell_type": "code",
   "execution_count": 14,
   "metadata": {},
   "outputs": [],
   "source": [
    "output_json = 'data/coco/instances_train2017_one_img.json'\n",
    "\n",
    "output_data = dict()\n",
    "output_data['info'] = data['info']\n",
    "output_data['licenses'] = data['licenses']\n",
    "output_data['categories'] = data['categories']"
   ]
  },
  {
   "cell_type": "code",
   "execution_count": 15,
   "metadata": {},
   "outputs": [
    {
     "name": "stdout",
     "output_type": "stream",
     "text": [
      "{'supercategory': 'person', 'id': 1, 'name': 'person'}\n",
      "dict_keys(['supercategory', 'id', 'name'])\n"
     ]
    }
   ],
   "source": [
    "# print(data['info'])\n",
    "# print(data['licenses'])\n",
    "print(data['categories'][0])\n",
    "print(data['categories'][0].keys())"
   ]
  },
  {
   "cell_type": "code",
   "execution_count": 16,
   "metadata": {},
   "outputs": [],
   "source": [
    "image_ids = {5802}"
   ]
  },
  {
   "cell_type": "code",
   "execution_count": 17,
   "metadata": {},
   "outputs": [
    {
     "name": "stdout",
     "output_type": "stream",
     "text": [
      "<class 'list'>\n"
     ]
    }
   ],
   "source": [
    "# print([data['images'][i] for i in range(len(data['images'])) if data['images'][i]['id'] == image_id ])\n",
    "print(type(data['images']))"
   ]
  },
  {
   "cell_type": "code",
   "execution_count": 18,
   "metadata": {},
   "outputs": [],
   "source": [
    "output_data['images'] = []\n",
    "for i in range(len(data['images'])):\n",
    "    if data['images'][i]['id'] in image_ids:\n",
    "        output_data['images'].append(data['images'][i])"
   ]
  },
  {
   "cell_type": "code",
   "execution_count": 19,
   "metadata": {},
   "outputs": [],
   "source": [
    "# print([data['annotations'][i]['bbox'] for i in range(len(data['annotations'])) if data['annotations'][i]['image_id'] == image_id ])"
   ]
  },
  {
   "cell_type": "code",
   "execution_count": 20,
   "metadata": {},
   "outputs": [],
   "source": [
    "output_data['annotations'] = []\n",
    "for i in range(len(data['annotations'])):\n",
    "    if data['annotations'][i]['image_id'] in image_ids:\n",
    "        output_data['annotations'].append(data['annotations'][i])"
   ]
  },
  {
   "cell_type": "code",
   "execution_count": 21,
   "metadata": {},
   "outputs": [
    {
     "name": "stdout",
     "output_type": "stream",
     "text": [
      "[{'license': 2, 'file_name': '000000005802.jpg', 'coco_url': 'http://images.cocodataset.org/train2017/000000005802.jpg', 'height': 479, 'width': 640, 'date_captured': '2013-11-14 17:28:25', 'flickr_url': 'http://farm4.staticflickr.com/3810/9614287841_1b724dbbc5_z.jpg', 'id': 5802}]\n"
     ]
    }
   ],
   "source": [
    "print(output_data['images'])\n",
    "# print(output_data['annotations'])"
   ]
  },
  {
   "cell_type": "code",
   "execution_count": 22,
   "metadata": {},
   "outputs": [],
   "source": [
    "with open(output_json, 'w') as json_file:\n",
    "    json.dump(output_data, json_file)"
   ]
  },
  {
   "cell_type": "code",
   "execution_count": null,
   "metadata": {},
   "outputs": [],
   "source": []
  }
 ],
 "metadata": {
  "kernelspec": {
   "display_name": "Python 3",
   "language": "python",
   "name": "python3"
  }
 },
 "nbformat": 4,
 "nbformat_minor": 4
}
