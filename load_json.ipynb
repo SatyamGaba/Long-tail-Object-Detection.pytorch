{
 "cells": [
  {
   "cell_type": "code",
   "execution_count": 1,
   "metadata": {},
   "outputs": [],
   "source": [
    "import json\n",
    "import random"
   ]
  },
  {
   "cell_type": "code",
   "execution_count": 2,
   "metadata": {},
   "outputs": [],
   "source": [
    "# with open('data/lvis_v1/annotations/lvis_v1_train.json') as f:\n",
    "with open('data/lvis_v1/annotations/lvis_v1_val.json') as f:\n",
    "    data = json.load(f)"
   ]
  },
  {
   "cell_type": "code",
   "execution_count": 3,
   "metadata": {},
   "outputs": [
    {
     "name": "stdout",
     "output_type": "stream",
     "text": [
      "dict_keys(['info', 'categories', 'annotations', 'images', 'licenses'])\n"
     ]
    }
   ],
   "source": [
    "print(data.keys())"
   ]
  },
  {
   "cell_type": "code",
   "execution_count": 4,
   "metadata": {},
   "outputs": [],
   "source": [
    "# output_json = 'data/lvis_v1/annotations/lvis_v1_train_subsubset.json'\n",
    "output_json = 'data/lvis_v1/annotations/lvis_v1_val_subsubset.json'\n",
    "\n",
    "output_data = dict()\n",
    "output_data['info'] = data['info']\n",
    "output_data['licenses'] = data['licenses']\n",
    "output_data['categories'] = data['categories']"
   ]
  },
  {
   "cell_type": "code",
   "execution_count": 5,
   "metadata": {},
   "outputs": [
    {
     "name": "stdout",
     "output_type": "stream",
     "text": [
      "{'image_count': 8, 'synonyms': ['aerosol_can', 'spray_can'], 'def': 'a dispenser that holds a substance under pressure', 'id': 1, 'synset': 'aerosol.n.02', 'name': 'aerosol_can', 'frequency': 'c', 'instance_count': 11}\n",
      "dict_keys(['image_count', 'synonyms', 'def', 'id', 'synset', 'name', 'frequency', 'instance_count'])\n"
     ]
    }
   ],
   "source": [
    "# print(data['info'])\n",
    "# print(data['licenses'])\n",
    "print(data['categories'][0])\n",
    "print(data['categories'][0].keys())"
   ]
  },
  {
   "cell_type": "code",
   "execution_count": 6,
   "metadata": {},
   "outputs": [],
   "source": [
    "# image_ids = set([29640, 378873, 23781, 105014, 138954, 141328, 286908, 378873, 381587, 507235])"
   ]
  },
  {
   "cell_type": "code",
   "execution_count": 7,
   "metadata": {},
   "outputs": [
    {
     "data": {
      "text/plain": [
       "7011.9"
      ]
     },
     "execution_count": 7,
     "metadata": {},
     "output_type": "execute_result"
    }
   ],
   "source": [
    "100170*7/100"
   ]
  },
  {
   "cell_type": "code",
   "execution_count": 8,
   "metadata": {},
   "outputs": [
    {
     "name": "stdout",
     "output_type": "stream",
     "text": [
      "19809\n"
     ]
    }
   ],
   "source": [
    "# print([data['images'][i] for i in range(len(data['images'])) if data['images'][i]['id'] == image_id ])\n",
    "print(len(data['images']))"
   ]
  },
  {
   "cell_type": "code",
   "execution_count": 9,
   "metadata": {},
   "outputs": [],
   "source": [
    "percent_of = 0.001\n",
    "output_data['images'] = []\n",
    "for i in range(len(data['images'])):\n",
    "#     if data['images'][i]['id'] in image_ids:\n",
    "    if random.random() < percent_of:\n",
    "        output_data['images'].append(data['images'][i])"
   ]
  },
  {
   "cell_type": "code",
   "execution_count": 10,
   "metadata": {},
   "outputs": [
    {
     "name": "stdout",
     "output_type": "stream",
     "text": [
      "16\n"
     ]
    }
   ],
   "source": [
    "print(len(output_data['images']))\n",
    "# print([data['annotations'][i]['bbox'] for i in range(len(data['annotations'])) if data['annotations'][i]['image_id'] == image_id ])"
   ]
  },
  {
   "cell_type": "code",
   "execution_count": 11,
   "metadata": {},
   "outputs": [],
   "source": [
    "output_data['annotations'] = []\n",
    "for i in range(len(data['annotations'])):\n",
    "#     if data['annotations'][i]['image_id'] in image_ids:\n",
    "        output_data['annotations'].append(data['annotations'][i])"
   ]
  },
  {
   "cell_type": "code",
   "execution_count": 12,
   "metadata": {},
   "outputs": [],
   "source": [
    "# print(output_data['images'])\n",
    "# print(output_data['annotations'])"
   ]
  },
  {
   "cell_type": "code",
   "execution_count": 13,
   "metadata": {},
   "outputs": [],
   "source": [
    "with open(output_json, 'w') as json_file:\n",
    "    json.dump(output_data, json_file)"
   ]
  },
  {
   "cell_type": "code",
   "execution_count": null,
   "metadata": {},
   "outputs": [],
   "source": []
  }
 ],
 "metadata": {
  "kernelspec": {
   "display_name": "Python 3",
   "language": "python",
   "name": "python3"
  },
  "language_info": {
   "codemirror_mode": {
    "name": "ipython",
    "version": 3
   },
   "file_extension": ".py",
   "mimetype": "text/x-python",
   "name": "python",
   "nbconvert_exporter": "python",
   "pygments_lexer": "ipython3",
   "version": "3.7.6"
  }
 },
 "nbformat": 4,
 "nbformat_minor": 4
}
