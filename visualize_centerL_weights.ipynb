{
 "cells": [
  {
   "cell_type": "code",
   "execution_count": 1,
   "metadata": {},
   "outputs": [],
   "source": [
    "#!pip install pandas \n",
    "from mmdet.apis import init_detector, inference_detector, show_result_pyplot\n",
    "import mmcv\n",
    "import copy\n",
    "import matplotlib.pyplot as plt\n",
    "\n",
    "import numpy as np\n",
    "#import pandas as pd\n",
    "from lvis import LVIS"
   ]
  },
  {
   "cell_type": "code",
   "execution_count": null,
   "metadata": {},
   "outputs": [],
   "source": []
  },
  {
   "cell_type": "code",
   "execution_count": null,
   "metadata": {},
   "outputs": [],
   "source": []
  },
  {
   "cell_type": "code",
   "execution_count": 20,
   "metadata": {},
   "outputs": [
    {
     "name": "stdout",
     "output_type": "stream",
     "text": [
      "Step 0\n",
      "Step 1\n",
      "Step 3\n",
      "Step 4\n",
      "Step 5\n",
      "Step 6\n"
     ]
    }
   ],
   "source": [
    "config_file = 'configs/custom/faster_rcnn_r50_fpn_1x_lvis_center.py'\n",
    "checkpoint_file = './work_dirs/gs_faster_rcnn_r50_fpn_1x_lvis_with0_bg8_center_loss_whole_lambda1/epoch_8.pth'\n",
    "# model = init_detector(config_file, checkpoint_file, device='cuda:0')\n",
    "model = init_detector(config_file, checkpoint_file, device='cpu')\n"
   ]
  },
  {
   "cell_type": "code",
   "execution_count": 21,
   "metadata": {},
   "outputs": [
    {
     "data": {
      "text/plain": [
       "tensor([1, 1, 1,  ..., 1, 1, 0])"
      ]
     },
     "execution_count": 21,
     "metadata": {},
     "output_type": "execute_result"
    }
   ],
   "source": [
    "m[0]"
   ]
  },
  {
   "cell_type": "code",
   "execution_count": 4,
   "metadata": {},
   "outputs": [
    {
     "name": "stdout",
     "output_type": "stream",
     "text": [
      "torch.Size([2, 1024]) torch.Size([5, 1204])\n"
     ]
    }
   ],
   "source": [
    "import torch\n",
    "i = 0\n",
    "m = torch.load('./data/lvis_v1/label2binlabel.pt')\n",
    "centers = model.roi_head.bbox_head.loss_center_bins[i].centers\n",
    "print(centers.shape, m.shape)"
   ]
  },
  {
   "cell_type": "code",
   "execution_count": 13,
   "metadata": {},
   "outputs": [],
   "source": [
    "X = []\n",
    "labels = []\n",
    "\n",
    "i = 0\n",
    "centers = model.roi_head.bbox_head.loss_center_bins[i].centers\n",
    "X.append(centers[0].detach().cpu().numpy())\n",
    "labels.append(1203)\n",
    "\n",
    "for i in range(1,5):\n",
    "    centers = model.roi_head.bbox_head.loss_center_bins[i].centers\n",
    "    for index,target in enumerate(m[i]):\n",
    "        #print(index,target.numpy())\n",
    "        if target != 0:\n",
    "            center = centers[target]\n",
    "            label = index\n",
    "            X.append(center.detach().cpu().numpy())\n",
    "            labels.append(label)\n",
    "X = np.array(X)\n",
    "labels = np.array(labels)\n",
    "\n",
    "# np.save('./data/lvis_v1/centersX.npy',X)\n",
    "np.save('./data/lvis_v1/centersY.npy',labels)"
   ]
  },
  {
   "cell_type": "code",
   "execution_count": 14,
   "metadata": {},
   "outputs": [
    {
     "data": {
      "text/plain": [
       "1"
      ]
     },
     "execution_count": 14,
     "metadata": {},
     "output_type": "execute_result"
    }
   ],
   "source": [
    "np.sum(labels == 1203)"
   ]
  },
  {
   "cell_type": "code",
   "execution_count": null,
   "metadata": {},
   "outputs": [],
   "source": []
  },
  {
   "cell_type": "code",
   "execution_count": 2,
   "metadata": {},
   "outputs": [
    {
     "name": "stdout",
     "output_type": "stream",
     "text": [
      "Step 0\n",
      "Step 1\n",
      "Step 3\n",
      "Step 4\n",
      "Step 5\n",
      "Step 6\n"
     ]
    }
   ],
   "source": [
    "config_file = './configs/custom/faster_rcnn_r50_fpn_1x_lvis_center.py'\n",
    "checkpoint_file = 'work_dirs/gs_faster_rcnn_r50_fpn_1x_lvis_with0_bg8_center_loss_whole_entire_lambda01/epoch_12.pth'\n",
    "# model = init_detector(config_file, checkpoint_file, device='cuda:0')\n",
    "model = init_detector(config_file, checkpoint_file, device='cpu')\n"
   ]
  },
  {
   "cell_type": "code",
   "execution_count": 3,
   "metadata": {},
   "outputs": [
    {
     "name": "stdout",
     "output_type": "stream",
     "text": [
      "torch.Size([1204, 1024])\n"
     ]
    }
   ],
   "source": [
    "import torch\n",
    "centers = model.roi_head.bbox_head.loss_center.centers\n",
    "print(centers.shape)"
   ]
  },
  {
   "cell_type": "code",
   "execution_count": 4,
   "metadata": {},
   "outputs": [],
   "source": [
    "X = centers.detach().cpu().numpy()\n",
    "labels = np.arange(0,1204)"
   ]
  },
  {
   "cell_type": "code",
   "execution_count": 5,
   "metadata": {},
   "outputs": [],
   "source": [
    "np.save('./data/lvis_v1/centersX_whole_entire_lambda01.npy',X)\n",
    "np.save('./data/lvis_v1/centersY_whole_entire_lambda01.npy',labels)"
   ]
  },
  {
   "cell_type": "code",
   "execution_count": 2,
   "metadata": {},
   "outputs": [],
   "source": [
    "import numpy as np\n",
    "X = np.load('./data/lvis_v1/centersX_whole.npy')\n",
    "y = np.load('./data/lvis_v1/centersY_whole.npy')"
   ]
  },
  {
   "cell_type": "code",
   "execution_count": 34,
   "metadata": {},
   "outputs": [
    {
     "data": {
      "text/plain": [
       "(3, 1024)"
      ]
     },
     "execution_count": 34,
     "metadata": {},
     "output_type": "execute_result"
    }
   ],
   "source": [
    "np.append(X[:2],X[-1:],axis=0).shape\n"
   ]
  },
  {
   "cell_type": "code",
   "execution_count": 43,
   "metadata": {},
   "outputs": [],
   "source": [
    "runningCenters = np.load('./data/lvis_v1/runningCenters.npy')\n",
    "counts = np.load('./data/lvis_v1/runningCentersCount.npy')"
   ]
  },
  {
   "cell_type": "code",
   "execution_count": 9,
   "metadata": {},
   "outputs": [
    {
     "name": "stderr",
     "output_type": "stream",
     "text": [
      "/cephfs-team2/venv/trial_vv/lib/python3.7/site-packages/ipykernel_launcher.py:3: RuntimeWarning: invalid value encountered in true_divide\n",
      "  This is separate from the ipykernel package so we can avoid doing imports until\n"
     ]
    }
   ],
   "source": [
    "cents = runningCenters\n",
    "for i in range(len(cents)):\n",
    "    cents[i] = cents[i] / counts[i]"
   ]
  },
  {
   "cell_type": "code",
   "execution_count": 16,
   "metadata": {},
   "outputs": [
    {
     "data": {
      "text/plain": [
       "41.462223"
      ]
     },
     "execution_count": 16,
     "metadata": {},
     "output_type": "execute_result"
    }
   ],
   "source": [
    "np.linalg.norm(X[100]-X[1])"
   ]
  },
  {
   "cell_type": "code",
   "execution_count": 4,
   "metadata": {},
   "outputs": [],
   "source": [
    "import torch\n",
    "import numpy as np\n",
    "a = np.zeros((4,5))"
   ]
  },
  {
   "cell_type": "code",
   "execution_count": 5,
   "metadata": {},
   "outputs": [],
   "source": [
    "b = None"
   ]
  },
  {
   "cell_type": "code",
   "execution_count": 8,
   "metadata": {},
   "outputs": [],
   "source": [
    "if b is None:\n",
    "    b = a\n",
    "else: b = np.append(b,a,axis=0)"
   ]
  },
  {
   "cell_type": "code",
   "execution_count": 42,
   "metadata": {},
   "outputs": [],
   "source": [
    "features = np.load('./data/lvis_v1/featuresToSave.npy')\n",
    "labels = np.load('./data/lvis_v1/labelsToSave.npy')"
   ]
  },
  {
   "cell_type": "code",
   "execution_count": 6,
   "metadata": {},
   "outputs": [],
   "source": [
    "import numpy as np\n",
    "from sklearn.manifold import TSNE\n",
    "from matplotlib import pyplot as plt\n",
    "import seaborn as sns\n",
    "sns.set(rc={'figure.figsize':(11.7,8.27)})\n",
    "palette = sns.color_palette(\"bright\", 10)\n"
   ]
  },
  {
   "cell_type": "code",
   "execution_count": 7,
   "metadata": {},
   "outputs": [],
   "source": [
    "n_components = 2\n",
    "perplexity = 30"
   ]
  },
  {
   "cell_type": "code",
   "execution_count": 8,
   "metadata": {},
   "outputs": [],
   "source": [
    "tsne = TSNE(n_components=2, random_state=0)"
   ]
  },
  {
   "cell_type": "code",
   "execution_count": 9,
   "metadata": {},
   "outputs": [
    {
     "data": {
      "text/plain": [
       "(56076, 2)"
      ]
     },
     "execution_count": 9,
     "metadata": {},
     "output_type": "execute_result"
    }
   ],
   "source": [
    "X_2d = tsne.fit_transform(features)\n",
    "X_2d.shape\n",
    "\n"
   ]
  },
  {
   "cell_type": "code",
   "execution_count": 41,
   "metadata": {},
   "outputs": [
    {
     "data": {
      "image/png": "[encoded data removed]",
      "text/plain": [
       "<Figure size 432x360 with 1 Axes>"
      ]
     },
     "metadata": {},
     "output_type": "display_data"
    }
   ],
   "source": [
    "y = labels\n",
    "target_ids = [9,8,7,6,5,4,3,2,1,0]\n",
    "\n",
    "from matplotlib import pyplot as plt\n",
    "plt.figure(figsize=(6, 5))\n",
    "colors = 'r', 'g', 'b', 'c', 'm', 'y', 'k', 'w', 'orange', 'purple','g'\n",
    "for i, c, label in zip(target_ids, colors, ['0','1','2','3','4','5','6','7','8','9']):\n",
    "    plt.scatter(X_2d[y == i, 0], X_2d[y == i, 1], c=c, label=label)\n",
    "plt.legend()\n",
    "plt.show()"
   ]
  },
  {
   "cell_type": "code",
   "execution_count": 13,
   "metadata": {},
   "outputs": [],
   "source": [
    "centers = np.zeros((10,1024))\n",
    "for i in range(len(features)):\n",
    "    centers[labels[i]] += features[i]\n",
    "for i in range(10):\n",
    "    centers[i] = centers[i] / np.sum(labels==i)"
   ]
  },
  {
   "cell_type": "code",
   "execution_count": 15,
   "metadata": {},
   "outputs": [],
   "source": [
    "runningCenters = np.load('./data/lvis_v1/runningCenters.npy')\n",
    "counts = np.load('./data/lvis_v1/runningCentersCount.npy')"
   ]
  },
  {
   "cell_type": "code",
   "execution_count": 57,
   "metadata": {},
   "outputs": [
    {
     "data": {
      "text/plain": [
       "17.810978792990973"
      ]
     },
     "execution_count": 57,
     "metadata": {},
     "output_type": "execute_result"
    }
   ],
   "source": [
    "scores = np.ones((features.shape[0], 10))"
   ]
  },
  {
   "cell_type": "code",
   "execution_count": 59,
   "metadata": {},
   "outputs": [
    {
     "data": {
      "text/plain": [
       "(56076, 1024)"
      ]
     },
     "execution_count": 59,
     "metadata": {},
     "output_type": "execute_result"
    }
   ],
   "source": [
    "features.shape"
   ]
  },
  {
   "cell_type": "code",
   "execution_count": 60,
   "metadata": {},
   "outputs": [],
   "source": [
    "knn = NearestNeighbors(n_neighbors=10, algorithm='ball_tree').fit(centers)\n",
    "distances, indices = knn.kneighbors(features)\n"
   ]
  },
  {
   "cell_type": "code",
   "execution_count": 38,
   "metadata": {},
   "outputs": [],
   "source": [
    "correct = np.zeros(10)\n",
    "total = np.zeros(10)\n",
    "for i in range(len(labels)):\n",
    "    total[labels[i]] += 1\n",
    "    if labels[i] == indices[i]:\n",
    "        correct[labels[i]] += 1\n",
    "        "
   ]
  },
  {
   "cell_type": "code",
   "execution_count": 71,
   "metadata": {},
   "outputs": [],
   "source": [
    "from scipy.special import softmax\n",
    "\n",
    "scores = softmax(-distances, axis=1)\n"
   ]
  },
  {
   "cell_type": "code",
   "execution_count": 80,
   "metadata": {},
   "outputs": [
    {
     "data": {
      "text/plain": [
       "array([[9, 0, 2, ..., 8, 3, 6],\n",
       "       [9, 0, 2, ..., 8, 3, 6],\n",
       "       [9, 0, 2, ..., 8, 3, 6],\n",
       "       ...,\n",
       "       [9, 5, 0, ..., 7, 6, 3],\n",
       "       [5, 0, 2, ..., 7, 6, 3],\n",
       "       [5, 0, 2, ..., 7, 6, 3]])"
      ]
     },
     "execution_count": 80,
     "metadata": {},
     "output_type": "execute_result"
    }
   ],
   "source": [
    "indices"
   ]
  },
  {
   "cell_type": "code",
   "execution_count": 82,
   "metadata": {},
   "outputs": [],
   "source": [
    "from sklearn.metrics import pairwise_distances"
   ]
  },
  {
   "cell_type": "code",
   "execution_count": 84,
   "metadata": {},
   "outputs": [],
   "source": [
    "d = pairwise_distances(features,centers)"
   ]
  },
  {
   "cell_type": "code",
   "execution_count": 88,
   "metadata": {},
   "outputs": [],
   "source": [
    "scores = softmax(-d, axis=1)\n"
   ]
  },
  {
   "cell_type": "code",
   "execution_count": 93,
   "metadata": {},
   "outputs": [
    {
     "data": {
      "text/plain": [
       "0.7808509879449319"
      ]
     },
     "execution_count": 93,
     "metadata": {},
     "output_type": "execute_result"
    }
   ],
   "source": [
    "np.sum(np.argmax(scores,axis=1) == labels)/len(labels)"
   ]
  },
  {
   "cell_type": "code",
   "execution_count": 87,
   "metadata": {},
   "outputs": [
    {
     "data": {
      "text/plain": [
       "array([10.46675345, 16.59106214, 17.19026956, 17.32939261, 17.38980766,\n",
       "       17.44102708, 17.78803552, 17.81097879, 18.06436843, 18.90699508])"
      ]
     },
     "execution_count": 87,
     "metadata": {},
     "output_type": "execute_result"
    }
   ],
   "source": [
    "distances[0]"
   ]
  },
  {
   "cell_type": "code",
   "execution_count": null,
   "metadata": {},
   "outputs": [],
   "source": []
  }
 ],
 "metadata": {
  "kernelspec": {
   "display_name": "Python 3",
   "language": "python",
   "name": "python3"
  },
  "language_info": {
   "codemirror_mode": {
    "name": "ipython",
    "version": 3
   },
   "file_extension": ".py",
   "mimetype": "text/x-python",
   "name": "python",
   "nbconvert_exporter": "python",
   "pygments_lexer": "ipython3",
   "version": "3.7.9"
  }
 },
 "nbformat": 4,
 "nbformat_minor": 4
}
