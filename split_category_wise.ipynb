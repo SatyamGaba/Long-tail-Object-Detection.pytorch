{
 "cells": [
  {
   "cell_type": "code",
   "execution_count": 2,
   "metadata": {},
   "outputs": [],
   "source": [
    "import json"
   ]
  },
  {
   "cell_type": "code",
   "execution_count": 3,
   "metadata": {},
   "outputs": [],
   "source": [
    "with open('./data/lvis/annotations/lvis_v1_train.json') as f:\n",
    "# with open('lvis_v1/annotations/lvis_v1_val.json') as f:\n",
    "    data = json.load(f)"
   ]
  },
  {
   "cell_type": "code",
   "execution_count": 4,
   "metadata": {},
   "outputs": [
    {
     "name": "stdout",
     "output_type": "stream",
     "text": [
      "dict_keys(['info', 'annotations', 'images', 'licenses', 'categories'])\n"
     ]
    }
   ],
   "source": [
    "print(data.keys())"
   ]
  },
  {
   "cell_type": "code",
   "execution_count": 5,
   "metadata": {},
   "outputs": [],
   "source": [
    "output_data = [dict(), dict(), dict(), dict()]\n",
    "for output in output_data:\n",
    "    output['info'] = data['info']\n",
    "    output['licenses'] = data['licenses']\n",
    "    output['categories'] = []\n",
    "    output['images'] = []\n",
    "    output['annotations'] = []"
   ]
  },
  {
   "cell_type": "code",
   "execution_count": 6,
   "metadata": {},
   "outputs": [],
   "source": [
    "images = {}\n",
    "for img in data['images']:\n",
    "    images[img['id']] = img"
   ]
  },
  {
   "cell_type": "code",
   "execution_count": 7,
   "metadata": {},
   "outputs": [],
   "source": [
    "for ann in data['annotations']:\n",
    "    \n",
    "    cat_id, img_id = ann['category_id'], ann['image_id']\n",
    "    category = data['categories'][cat_id-1].copy()\n",
    "    image = images[img_id].copy()\n",
    "    annotation = ann.copy()\n",
    "    \n",
    "    ins_count = category['instance_count']\n",
    "    if ins_count < 10:\n",
    "        output_data[0]['categories'].append(category)\n",
    "        output_data[0]['images'].append(image)\n",
    "        output_data[0]['annotations'].append(annotation)\n",
    "    elif ins_count < 100:\n",
    "        output_data[1]['categories'].append(category)\n",
    "        output_data[1]['images'].append(image)\n",
    "        output_data[1]['annotations'].append(annotation)\n",
    "    elif ins_count < 1000:\n",
    "        output_data[2]['categories'].append(category)\n",
    "        output_data[2]['images'].append(image)\n",
    "        output_data[2]['annotations'].append(annotation)\n",
    "    else:\n",
    "        output_data[3]['categories'].append(category)\n",
    "        output_data[3]['images'].append(image)\n",
    "        output_data[3]['annotations'].append(annotation)"
   ]
  },
  {
   "cell_type": "code",
   "execution_count": 8,
   "metadata": {},
   "outputs": [],
   "source": [
    "for i in range(4):\n",
    "    L = output_data[i]['categories'] \n",
    "    output_data[i]['categories'] = list({v['id']:v for v in L}.values())\n",
    "    M = output_data[i]['images'] \n",
    "    output_data[i]['images'] = list({v['id']:v for v in M}.values())"
   ]
  },
  {
   "cell_type": "code",
   "execution_count": 9,
   "metadata": {},
   "outputs": [
    {
     "name": "stdout",
     "output_type": "stream",
     "text": [
      "200 553\n",
      "412 8241\n",
      "334 34460\n",
      "257 97323\n"
     ]
    }
   ],
   "source": [
    "for i in range(4):\n",
    "    print(len(output_data[i]['categories']), len(output_data[i]['images']))"
   ]
  },
  {
   "cell_type": "code",
   "execution_count": 12,
   "metadata": {},
   "outputs": [],
   "source": [
    "for i in range(1,5):\n",
    "    output_json = './data/lvis/annotations/lvis_v1_train_bin%d.json'%i\n",
    "    with open(output_json, 'w') as json_file:\n",
    "        json.dump(output_data[i-1], json_file)"
   ]
  },
  {
   "cell_type": "code",
   "execution_count": null,
   "metadata": {},
   "outputs": [],
   "source": []
  }
 ],
 "metadata": {
  "kernelspec": {
   "display_name": "Python 3",
   "language": "python",
   "name": "python3"
  },
  "language_info": {
   "codemirror_mode": {
    "name": "ipython",
    "version": 3
   },
   "file_extension": ".py",
   "mimetype": "text/x-python",
   "name": "python",
   "nbconvert_exporter": "python",
   "pygments_lexer": "ipython3",
   "version": "3.7.9"
  }
 },
 "nbformat": 4,
 "nbformat_minor": 4
}
